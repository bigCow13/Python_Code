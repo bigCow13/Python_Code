{
  "nbformat": 4,
  "nbformat_minor": 0,
  "metadata": {
    "colab": {
      "name": "Prisoner's Problem.ipynb",
      "provenance": [],
      "collapsed_sections": [],
      "toc_visible": true,
      "authorship_tag": "ABX9TyMDdJEsLegPKOfBjB+Tw+xY",
      "include_colab_link": true
    },
    "kernelspec": {
      "name": "python3",
      "display_name": "Python 3"
    },
    "language_info": {
      "name": "python"
    }
  },
  "cells": [
    {
      "cell_type": "markdown",
      "metadata": {
        "id": "view-in-github",
        "colab_type": "text"
      },
      "source": [
        "<a href=\"https://colab.research.google.com/github/bigCow13/Study/blob/main/Prisoner's_Problem.ipynb\" target=\"_parent\"><img src=\"https://colab.research.google.com/assets/colab-badge.svg\" alt=\"Open In Colab\"/></a>"
      ]
    },
    {
      "cell_type": "markdown",
      "source": [
        "# Introduction"
      ],
      "metadata": {
        "id": "n_zcCtvGdFf9"
      }
    },
    {
      "cell_type": "markdown",
      "source": [
        "100 Prisoners and a Light Bulb - Simulating the problem\n",
        "\n",
        "An interesting logic puzzle introduced to me by a friend over Christmas dinner - \n",
        "got curious on how many days it would take for the prisoners to get out given the solution.\n",
        "\n",
        "Problem and solution found here: \n",
        "\n",
        "https://medium.com/i-math/100-prisoners-and-a-light-bulb-573426272f4c"
      ],
      "metadata": {
        "id": "_-H6oWmTVhuM"
      }
    },
    {
      "cell_type": "markdown",
      "source": [
        "#Environment"
      ],
      "metadata": {
        "id": "dE-RUDnLA5cL"
      }
    },
    {
      "cell_type": "code",
      "execution_count": 78,
      "metadata": {
        "id": "Jx1vjkInU0Em"
      },
      "outputs": [],
      "source": [
        "## Packages for general use \n",
        "# Data Management/array\n",
        "import pandas as pd\n",
        "import numpy as np\n",
        "\n",
        "# Data Manipulation\n",
        "import itertools\n",
        "import statistics\n",
        "import random \n",
        "\n",
        "# Pipelining\n",
        "from joblib import Parallel, delayed                                            \n",
        "\n",
        "# Charting\n",
        "import matplotlib.pyplot as plt\n",
        "import seaborn as sns                                                           # Distribution plots"
      ]
    },
    {
      "cell_type": "markdown",
      "source": [
        "#Initial Parameters"
      ],
      "metadata": {
        "id": "p_HlBEkNA1U8"
      }
    },
    {
      "cell_type": "code",
      "source": [
        "# Set up initial  parameters\n",
        "n = 100                           # Number of prisoners\n",
        "lb_status = 0                   # Lightbulb status - 0 is off and 1 is on\n",
        "chief_prisoner = 0              # Assigned prisoner counting\n",
        "day_count = 0\n",
        "count_prisoners = 0\n",
        "turnoff_count = 0\n",
        "\n",
        "# Prisoner Array\n",
        "a = np.array(range(0,n))\n",
        "# Status Array\n",
        "b = np.zeros(n)\n",
        "# Create problem array\n",
        "prob_arr = np.array([a,b])"
      ],
      "metadata": {
        "id": "LGKRsBzBVgSc"
      },
      "execution_count": 42,
      "outputs": []
    },
    {
      "cell_type": "code",
      "source": [
        "# Check array\n",
        "prob_arr"
      ],
      "metadata": {
        "colab": {
          "base_uri": "https://localhost:8080/"
        },
        "id": "ousctanqZdl4",
        "outputId": "ba88f67e-1d4b-451d-b68c-30c73f748454"
      },
      "execution_count": 3,
      "outputs": [
        {
          "output_type": "execute_result",
          "data": {
            "text/plain": [
              "array([[ 0.,  1.,  2.,  3.,  4.,  5.,  6.,  7.,  8.,  9., 10., 11., 12.,\n",
              "        13., 14., 15., 16., 17., 18., 19., 20., 21., 22., 23., 24., 25.,\n",
              "        26., 27., 28., 29., 30., 31., 32., 33., 34., 35., 36., 37., 38.,\n",
              "        39., 40., 41., 42., 43., 44., 45., 46., 47., 48., 49., 50., 51.,\n",
              "        52., 53., 54., 55., 56., 57., 58., 59., 60., 61., 62., 63., 64.,\n",
              "        65., 66., 67., 68., 69., 70., 71., 72., 73., 74., 75., 76., 77.,\n",
              "        78., 79., 80., 81., 82., 83., 84., 85., 86., 87., 88., 89., 90.,\n",
              "        91., 92., 93., 94., 95., 96., 97., 98., 99.],\n",
              "       [ 0.,  0.,  0.,  0.,  0.,  0.,  0.,  0.,  0.,  0.,  0.,  0.,  0.,\n",
              "         0.,  0.,  0.,  0.,  0.,  0.,  0.,  0.,  0.,  0.,  0.,  0.,  0.,\n",
              "         0.,  0.,  0.,  0.,  0.,  0.,  0.,  0.,  0.,  0.,  0.,  0.,  0.,\n",
              "         0.,  0.,  0.,  0.,  0.,  0.,  0.,  0.,  0.,  0.,  0.,  0.,  0.,\n",
              "         0.,  0.,  0.,  0.,  0.,  0.,  0.,  0.,  0.,  0.,  0.,  0.,  0.,\n",
              "         0.,  0.,  0.,  0.,  0.,  0.,  0.,  0.,  0.,  0.,  0.,  0.,  0.,\n",
              "         0.,  0.,  0.,  0.,  0.,  0.,  0.,  0.,  0.,  0.,  0.,  0.,  0.,\n",
              "         0.,  0.,  0.,  0.,  0.,  0.,  0.,  0.,  0.]])"
            ]
          },
          "metadata": {},
          "execution_count": 3
        }
      ]
    },
    {
      "cell_type": "markdown",
      "source": [
        "#Simulation"
      ],
      "metadata": {
        "id": "Go0nglVzA_u4"
      }
    },
    {
      "cell_type": "markdown",
      "source": [
        "##Playing out a single day"
      ],
      "metadata": {
        "id": "tShQ8qZUAx6Q"
      }
    },
    {
      "cell_type": "code",
      "source": [
        "# Set up a single day\n",
        "\n",
        "# Stage 1 - Randomly pick a prisoner\n",
        "prisoner = random.randint(0,n-1)\n",
        "day_count = day_count + 1\n",
        "\n",
        "# Stage 2 - Lightbulb \n",
        "\n",
        "# Here prisoner knows if he has been in the room before\n",
        "prisoner_status = prob_arr[1,prisoner]\n",
        "\n",
        "# Leave lightbulb in current state, if first time and lightbulb is off - turn on\n",
        "# First timers\n",
        "if prisoner_status == 0 and lb_status == 0 and chief_prisoner != prisoner : \n",
        "    lb_status = 1\n",
        "    prob_arr[1,prisoner] = 1 \n",
        "# Chief prisoner's job to turn off\n",
        "elif prisoner == chief_prisoner and lb_status == 1 :\n",
        "    lb_status = 0\n",
        "    turnoff_count = turnoff_count + 1\n",
        "# All others who have been into the room before         \n",
        "else : \n",
        "    lb_status = lb_status \n",
        "print('day: '+ str(day_count) +'  prisoner: '+str(prisoner)+ '  lightbulb: '+ str(lb_status))\n",
        "count_prisoners = sum(prob_arr[1])"
      ],
      "metadata": {
        "id": "BqeY6hEWVo-Q",
        "colab": {
          "base_uri": "https://localhost:8080/"
        },
        "outputId": "d259ab38-3f9a-4080-a1c3-204824c9577c"
      },
      "execution_count": 4,
      "outputs": [
        {
          "output_type": "stream",
          "name": "stdout",
          "text": [
            "day: 1  prisoner: 19  lightbulb: 1\n"
          ]
        }
      ]
    },
    {
      "cell_type": "markdown",
      "source": [
        "## Playing out a full escape "
      ],
      "metadata": {
        "id": "Jv7QDHmRAuuY"
      }
    },
    {
      "cell_type": "code",
      "source": [
        "while turnoff_count < n-1 : \n",
        "    \n",
        "    # Set up a round\n",
        "    # Stage 1 - Randomly pick a prisoner\n",
        "    prisoner = random.randint(0,n-1)\n",
        "    day_count = day_count + 1\n",
        "    \n",
        "    # Stage 2 - Lightbulb \n",
        "    # Here prisoner knows if he has been in the room before\n",
        "    prisoner_status = prob_arr[1,prisoner]\n",
        "\n",
        "    # Leave lightbulb in current state, if first time and lightbulb is off - turn on\n",
        "    # First timers\n",
        "    if prisoner_status == 0 and lb_status == 0 and chief_prisoner != prisoner : \n",
        "        lb_status = 1\n",
        "        prob_arr[1,prisoner] = 1 \n",
        "\n",
        "    # Chief prisoner's job to turn off\n",
        "    elif prisoner == chief_prisoner and lb_status == 1 :\n",
        "        lb_status = 0\n",
        "        turnoff_count = turnoff_count + 1\n",
        "    # All others who have been into the room before         \n",
        "    else : \n",
        "        lb_status = lb_status \n",
        "\n",
        "    print('day: '+ str(day_count) +'  prisoner: '+str(prisoner)+ '  lightbulb: '+ str(lb_status))\n",
        "    count_prisoners = sum(prob_arr[1])"
      ],
      "metadata": {
        "id": "c30JVkHWxrUS"
      },
      "execution_count": null,
      "outputs": []
    },
    {
      "cell_type": "markdown",
      "source": [
        "## Simulating multiple runs"
      ],
      "metadata": {
        "id": "dSrgFJcDBIYg"
      }
    },
    {
      "cell_type": "code",
      "source": [
        "def prisoner_function(n): \n",
        "    # Set up initial  parameters\n",
        "    # n = 100                       # Make this a variable\n",
        "    lb_status = 0                   # Lightbulb status - 0 is off and 1 is on\n",
        "    chief_prisoner = 0              # Assigned prisoner counting\n",
        "    day_count = 0\n",
        "    count_prisoners = 0\n",
        "    turnoff_count = 0\n",
        "    \n",
        "    # Prisoner Array\n",
        "    a = np.array(range(0,n))\n",
        "    # Status Array\n",
        "    b = np.zeros(n)\n",
        "    # Create problem array\n",
        "    prob_arr = np.array([a,b])\n",
        "    # Set up a single escape\n",
        "\n",
        "    while turnoff_count < n-1 : \n",
        "        # Set up a round\n",
        "        # Stage 1 - Randomly pick a prisoner\n",
        "        prisoner = random.randint(0,n-1)\n",
        "        day_count = day_count + 1\n",
        "\n",
        "        # Stage 2 - Lightbulb \n",
        "        # Here prisoner knows if he has been in the room before\n",
        "        prisoner_status = prob_arr[1,prisoner]\n",
        "\n",
        "        # Leave lightbulb in current state, if first time and lightbulb is off - turn on\n",
        "        # First timers\n",
        "        if prisoner_status == 0 and lb_status == 0 and chief_prisoner != prisoner : \n",
        "            lb_status = 1\n",
        "            prob_arr[1,prisoner] = 1 \n",
        "\n",
        "        # Chief prisoner's job to turn off\n",
        "        elif prisoner == chief_prisoner and lb_status == 1 :\n",
        "            lb_status = 0\n",
        "            turnoff_count = turnoff_count + 1\n",
        "        # All others who have been into the room before         \n",
        "        else : \n",
        "            lb_status = lb_status \n",
        "\n",
        "        #print('day: '+ str(day_count) +'  prisoner: '+str(prisoner)+ '  lightbulb: '+ str(lb_status))\n",
        "        count_prisoners = sum(prob_arr[1])\n",
        "    return(day_count)"
      ],
      "metadata": {
        "id": "8CYOPgjATtAQ"
      },
      "execution_count": 115,
      "outputs": []
    },
    {
      "cell_type": "code",
      "source": [
        "# Pipeline the simulation\n",
        "# 2 parameters - number of prisoners and number of simulations\n",
        "sim = Parallel(n_jobs = -1)(delayed(prisoner_function)(100) for i in range(500))\n",
        "\n",
        "# Average years \n",
        "print('Average years: ' + str(round(np.mean(sim)/365,2)))"
      ],
      "metadata": {
        "colab": {
          "base_uri": "https://localhost:8080/"
        },
        "id": "zg6H7PliQPrF",
        "outputId": "43c7c55c-6109-4a6d-c00a-dd97c0b80380"
      },
      "execution_count": 108,
      "outputs": [
        {
          "output_type": "stream",
          "name": "stdout",
          "text": [
            "28.623983561643836\n"
          ]
        }
      ]
    },
    {
      "cell_type": "code",
      "source": [
        "# Plot results\n",
        "sim2 = np.array(sim)\n",
        "sim2 = sim2/365\n",
        "sim2\n",
        "\n",
        "ax = sns.displot(sim2)"
      ],
      "metadata": {
        "colab": {
          "base_uri": "https://localhost:8080/",
          "height": 365
        },
        "id": "RV39t0wJX_sY",
        "outputId": "f5ff366f-71ac-4e60-edd2-50b20eb66ff9"
      },
      "execution_count": 109,
      "outputs": [
        {
          "output_type": "display_data",
          "data": {
            "image/png": "[encoded data removed]",
            "text/plain": [
              "<Figure size 360x360 with 1 Axes>"
            ]
          },
          "metadata": {}
        }
      ]
    },
    {
      "cell_type": "markdown",
      "source": [
        "Average of ~ 28 years for the prisoners to escape. Some unlucky bastards spent 40 years playing it out. "
      ],
      "metadata": {
        "id": "nJAvlbSjdfay"
      }
    }
  ]
}