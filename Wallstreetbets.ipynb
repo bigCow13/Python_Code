{
  "cells": [
    {
      "cell_type": "markdown",
      "metadata": {
        "id": "view-in-github",
        "colab_type": "text"
      },
      "source": [
        "<a href=\"https://colab.research.google.com/github/bigCow13/Python_Code/blob/main/Wallstreetbets.ipynb\" target=\"_parent\"><img src=\"https://colab.research.google.com/assets/colab-badge.svg\" alt=\"Open In Colab\"/></a>"
      ]
    },
    {
      "cell_type": "markdown",
      "source": [
        "Wallstreebets playaround - WIP"
      ],
      "metadata": {
        "id": "nqXX-rPer--W"
      }
    },
    {
      "cell_type": "markdown",
      "metadata": {
        "id": "k4ljWLTBityw"
      },
      "source": [
        "# Environment"
      ]
    },
    {
      "cell_type": "markdown",
      "metadata": {
        "id": "BAu5XLz1i4Jw"
      },
      "source": [
        "## Packages \n",
        "This section contains packages to be used throughout the notebook"
      ]
    },
    {
      "cell_type": "code",
      "execution_count": null,
      "metadata": {
        "id": "hkXE-sD9i3up"
      },
      "outputs": [],
      "source": [
        "## Packages for general use \n",
        "# Data Management.\n",
        "import pandas as pd\n",
        "import numpy as np\n",
        "\n",
        "# Data Manipulation\n",
        "import itertools\n",
        "import statistics\n",
        "import random \n",
        "\n",
        "# Datetime Manipulation\n",
        "import datetime as dt\n",
        "from datetime import datetime\n",
        "from dateutil import tz\n",
        "import time\n",
        "\n",
        "# Text manipulation\n",
        "import re \n",
        "\n",
        "# Tracking run-time\n",
        "from tqdm.notebook import tqdm\n",
        "tqdm.pandas()\n",
        "\n",
        "# Reddit scraper\n",
        "# Limited posts - try others\n",
        "!pip install praw\n",
        "import praw\n",
        "\n",
        "# Scraper using Pushshift\n",
        "! pip install psaw\n",
        "from psaw import PushshiftAPI\n",
        "\n",
        "# Used in pulling info from wikipedia/yahoo finance\n",
        "import bs4 as bs\n",
        "import pickle\n",
        "import requests\n",
        "import os\n",
        "import pandas_datareader.data as web\n",
        "\n",
        "# Import the yfinance\n",
        "!pip install yfinance\n",
        "import yfinance as yf\n",
        "\n",
        "# Regular expression\n",
        "import re\n",
        "\n",
        "# Plotting\n",
        "import matplotlib.pyplot as plt"
      ]
    },
    {
      "cell_type": "markdown",
      "metadata": {
        "id": "0wP18X9s3L6R"
      },
      "source": [
        "## Functions\n",
        "\n",
        "This section contains functions used throughout the notebook. "
      ]
    },
    {
      "cell_type": "code",
      "execution_count": null,
      "metadata": {
        "id": "tQUeIECYnr0u"
      },
      "outputs": [],
      "source": [
        "# Collect tickers of current S&P 500 companies\n",
        "def save_sp500_tickers():\n",
        "    resp = requests.get('http://en.wikipedia.org/wiki/List_of_S%26P_500_companies')\n",
        "    soup = bs.BeautifulSoup(resp.text, 'lxml')\n",
        "    table = soup.find('table', {'class': 'wikitable sortable'})\n",
        "    tickers = []\n",
        "    for row in table.findAll('tr')[1:]:\n",
        "        ticker = row.findAll('td')[0].text\n",
        "        tickers.append(ticker)\n",
        "\n",
        "    with open(\"sp500tickers.pickle\",\"wb\") as f:\n",
        "        pickle.dump(tickers,f)\n",
        "\n",
        "    return tickers\n",
        "  \n",
        "# Collect names of current S&P 500 companies\n",
        "def save_sp500_names():\n",
        "    resp = requests.get('http://en.wikipedia.org/wiki/List_of_S%26P_500_companies')\n",
        "    soup = bs.BeautifulSoup(resp.text, 'lxml')\n",
        "    table = soup.find('table', {'class': 'wikitable sortable'})\n",
        "    names = []\n",
        "    for row in table.findAll('tr')[1:]:\n",
        "        stockname = row.findAll('td')[1].text\n",
        "        names.append(stockname)\n",
        "\n",
        "    with open(\"sp500tickers.pickle\",\"wb\") as f:\n",
        "        pickle.dump(names,f)\n",
        "\n",
        "    return names\n",
        "\n",
        "\n",
        "# Function using yfinance, adding ticker name to each download\n",
        "def download_price(stock_ticker, start_date, end_date):\n",
        "    df_stock = yf.download(stock_ticker, start_date, end_date)\n",
        "    df_stock['ticker'] = stock_ticker\n",
        "    return df_stock\n",
        "\n",
        "\n",
        "# Function for text cleaning of post titles\n",
        "def reddit_post_cleaner(text): \n",
        "\n",
        "# Lower case\n",
        "    text = text.lower() \n",
        "# Remove dollar signs , hashtags and question marks\n",
        "    text = re.sub(r\"\\$\", \"\", text)\n",
        "    text = re.sub(r\"\\#\", \"\", text)\n",
        "# Remove apostrophes\n",
        "    text = re.sub(r\"\\b's\", \"\", text) \n",
        "    text = re.sub(r\"\\b’s\", \"\", text) \n",
        "# Tokenisation  \n",
        "    text = text.split() \n",
        "    return text\n",
        "\n",
        "# Functions to find stock names/tickers in the posts\n",
        "def stock_find(x):\n",
        "    stock_find = [stock for stock in df_stocknames['StockNames'] if stock in x]\n",
        "    return stock_find\n",
        "\n",
        "def ticker_find(x):\n",
        "    ticker_find = [ticker for ticker in df_stocknames['tickers'] if ticker in x]\n",
        "    return ticker_find\n",
        "\n",
        "# \n",
        "\n",
        "def stock_logic(x,y):\n",
        "    return_stock = '' \n",
        "    if len(x)!= 0:\n",
        "        return_stock = x[0]\n",
        "    elif len(y)!= 0:\n",
        "        return_stock = stock_dict.get(y[0])\n",
        "    else:\n",
        "        return_stock = 'remove'\n",
        "    return return_stock\n",
        "\n",
        "def convert_seconds_datetime(x):\n",
        "    formatdate = time.gmtime(x)\n",
        "    formatdate = dt.datetime(*formatdate[:6])\n",
        "    return formatdate    \n",
        "\n",
        "\n",
        "def closest_time(x):\n",
        "    closest_date = min([d for d in times if d > x], key = lambda t: t - x)\n",
        "    return closest_date"
      ]
    },
    {
      "cell_type": "markdown",
      "metadata": {
        "id": "8KlMqCDz3Rnb"
      },
      "source": [
        "## Data\n",
        "\n",
        "This section creates the datasets required and will be web-scraping for wsb posts and stock price data.\n",
        "\n",
        "Due to time it takes to scrape reddit posts, will save point in time data into drive. "
      ]
    },
    {
      "cell_type": "code",
      "execution_count": null,
      "metadata": {
        "colab": {
          "base_uri": "https://localhost:8080/"
        },
        "id": "UypW3RnXDy4u",
        "outputId": "9c45a79e-a48d-43fb-eafe-e61527937865"
      },
      "outputs": [
        {
          "output_type": "stream",
          "name": "stdout",
          "text": [
            "Mounted at /content/gdrive/\n"
          ]
        }
      ],
      "source": [
        "# Mount Google Drive\n",
        "from google.colab import drive\n",
        "drive.mount('/content/gdrive/',force_remount=True)"
      ]
    },
    {
      "cell_type": "code",
      "execution_count": null,
      "metadata": {
        "id": "jAFwA23sl0zK"
      },
      "outputs": [],
      "source": [
        "# Load wsb posts from drive\n",
        "infolder = '/content/gdrive/My Drive/Datasets/'\n",
        "file_name_prices = 'wsb_posts.csv'\n",
        "df = pd.read_csv(infolder+file_name_prices)\n",
        "\n",
        "# Load prices from drive\n",
        "infolder = '/content/gdrive/My Drive/Datasets/'\n",
        "file_name_prices = 'ticker_prices.csv'\n",
        "df_prices = pd.read_csv(infolder+file_name_prices)"
      ]
    },
    {
      "cell_type": "code",
      "source": [
        "df['dt'] = [convert_seconds_datetime(i) for i in df['created']] \n",
        "df['year'] = [i.year for i in df['dt']]\n",
        "df['month'] = [i.month for i in df['dt']]\n",
        "df_2021_12 = df.loc[(df['year'] == 2021) & (df['month'] == 11)]"
      ],
      "metadata": {
        "id": "DZN4kspuGdDi"
      },
      "execution_count": null,
      "outputs": []
    },
    {
      "cell_type": "markdown",
      "metadata": {
        "id": "BL-Rqdo-eeR7"
      },
      "source": [
        "WSB posts\n"
      ]
    },
    {
      "cell_type": "code",
      "execution_count": null,
      "metadata": {
        "id": "i0rTnNvMBf8e"
      },
      "outputs": [],
      "source": [
        "#Enter reddit login info\n",
        "r = praw.Reddit(client_id='G_BrE-lY8IRfDDJ9mQw9Eg', client_secret='_1MiajxVKgxGAJ6H-pz_ogEIV0IsIQ', user_agent='WebScraping')\n",
        "api = PushshiftAPI(r)\n",
        "\n",
        "\n",
        "start_epoch= int(dt.datetime(2019, 6, 1).timestamp())\n",
        "\n",
        "wsb_posts = list(api.search_submissions(after=start_epoch,\n",
        "                            subreddit='wallstreetbets',\n",
        "                            filter=['url','author', 'title', 'num_comments'],\n",
        "                            limit=1_000_000))\n",
        "# Create empty list\n",
        "df = []\n",
        "\n",
        "# Create df\n",
        "for post in wsb_posts:\n",
        "    df.append([post.title, post.score, post.id, post.subreddit, post.url, post.num_comments, post.selftext, post.created])\n",
        "df = pd.DataFrame(df,columns=['title', 'score', 'id', 'subreddit', 'url', 'num_comments', 'body', 'created'])\n",
        "\n",
        "# Write to csv\n",
        "df.to_csv('/content/gdrive/My Drive/Datasets/wsb_posts.csv')"
      ]
    },
    {
      "cell_type": "markdown",
      "metadata": {
        "id": "9nohwTdHeiry"
      },
      "source": [
        "S&P500 Composites prices"
      ]
    },
    {
      "cell_type": "code",
      "execution_count": null,
      "metadata": {
        "id": "r027Rd7Vnvja"
      },
      "outputs": [],
      "source": [
        "## Get S&P 500 data\n",
        "## Tickers from 'functions'\n",
        "#tickers = save_sp500_tickers()\n",
        "#tickers = [re.sub(r\"\\n\", \"\", x)for x in tickers]\n",
        "\n",
        "## Names from function in 'functions'\n",
        "#spnames = save_sp500_names()\n",
        "#\n",
        "## Add GME\n",
        "#spnames.append('GameStop')\n",
        "#tickers.append('GME')\n",
        "#\n",
        "#spnames.append('AMC')\n",
        "#tickers.append('AMC')\n",
        "#\n",
        "## Create dataframe\n",
        "#df_stocknames = pd.DataFrame()\n",
        "#df_stocknames['StockNames'] = spnames\n",
        "#df_stocknames['tickers'] = tickers\n",
        "#\n",
        "## Download prices using yfinance and function above\n",
        "#df_prices = [download_price(stock,'2017-01-01','2021-12-01') for stock in df_stocknames['tickers']]\n",
        "#\n",
        "## Concat list of prices into df\n",
        "#df_prices = pd.concat(df_prices)\n",
        "#\n",
        "## Write to csv\n",
        "#df_prices.to_csv('/content/gdrive/My Drive/Datasets/ticker_prices.csv')"
      ]
    },
    {
      "cell_type": "markdown",
      "metadata": {
        "id": "H9NuY0Ei8PvC"
      },
      "source": [
        "# Exploratory Data Analysis (EDA)"
      ]
    },
    {
      "cell_type": "markdown",
      "metadata": {
        "id": "F-4KIz7g8YC_"
      },
      "source": [
        "### Investigate share price data"
      ]
    },
    {
      "cell_type": "code",
      "execution_count": null,
      "metadata": {
        "colab": {
          "base_uri": "https://localhost:8080/"
        },
        "id": "l98aXX5V8aTi",
        "outputId": "c94b5d70-0fdc-4c80-cbe2-1020c8221823"
      },
      "outputs": [
        {
          "name": "stdout",
          "output_type": "stream",
          "text": [
            "(617575, 8)\n",
            "<class 'pandas.core.frame.DataFrame'>\n",
            "RangeIndex: 617575 entries, 0 to 617574\n",
            "Data columns (total 8 columns):\n",
            " #   Column     Non-Null Count   Dtype  \n",
            "---  ------     --------------   -----  \n",
            " 0   Date       617575 non-null  object \n",
            " 1   Open       617575 non-null  float64\n",
            " 2   High       617575 non-null  float64\n",
            " 3   Low        617575 non-null  float64\n",
            " 4   Close      617575 non-null  float64\n",
            " 5   Adj Close  617575 non-null  float64\n",
            " 6   Volume     617575 non-null  float64\n",
            " 7   ticker     617575 non-null  object \n",
            "dtypes: float64(6), object(2)\n",
            "memory usage: 37.7+ MB\n",
            "None\n"
          ]
        }
      ],
      "source": [
        "print(df_prices.shape)\n",
        "print(df_prices.info())"
      ]
    },
    {
      "cell_type": "code",
      "execution_count": null,
      "metadata": {
        "colab": {
          "base_uri": "https://localhost:8080/"
        },
        "id": "Se2HBh088lxA",
        "outputId": "7e9bb81b-a616-4c3a-e5ae-0d89ab84e080"
      },
      "outputs": [
        {
          "name": "stdout",
          "output_type": "stream",
          "text": [
            "Number of distinct companies:504\n"
          ]
        }
      ],
      "source": [
        "# Number of at distinct companies picked up from S&P500\n",
        "print('Number of distinct companies:' + str (len(df_prices['ticker'].unique()))) "
      ]
    },
    {
      "cell_type": "markdown",
      "metadata": {
        "id": "HYynmcu-E0-7"
      },
      "source": [
        "Plot Apple price - Check against google to check data pulled correctly"
      ]
    },
    {
      "cell_type": "code",
      "execution_count": null,
      "metadata": {
        "id": "rLoWR-MhI-yO"
      },
      "outputs": [],
      "source": [
        "aapl = df_prices.loc[df_prices['ticker'] == 'AAPL']\n",
        "\n",
        "# Visualise Volume and Close price over time\n",
        "# Set up plot\n",
        "fig, ax1 = plt.subplots()\n",
        "ax1.plot( aapl['Close'], color = 'dodgerblue', label = 'Close')\n",
        "\n",
        "# Set labels\n",
        "ax1.set_xlabel('Time')\n",
        "ax1.set_ylabel('Close Price(USD)')\n",
        "\n",
        "plt.title('AAPL - price over period')\n",
        "plt.show()\n"
      ]
    },
    {
      "cell_type": "markdown",
      "metadata": {
        "id": "wGEmu9wI_tpJ"
      },
      "source": [
        "Plot numerical features"
      ]
    },
    {
      "cell_type": "code",
      "execution_count": null,
      "metadata": {
        "colab": {
          "base_uri": "https://localhost:8080/",
          "height": 1000
        },
        "id": "Jvz_1lNb_v-k",
        "outputId": "b1dc0a6d-595f-475d-a63e-8417c838cfc9"
      },
      "outputs": [
        {
          "name": "stdout",
          "output_type": "stream",
          "text": [
            "Summary Statistics:\n",
            "count    617575.000000\n",
            "mean        134.902479\n",
            "std         246.195054\n",
            "min           0.700000\n",
            "25%          48.500000\n",
            "50%          82.809998\n",
            "75%         145.130005\n",
            "max        5327.109863\n",
            "Name: Open, dtype: float64\n"
          ]
        },
        {
          "data": {
            "image/png": "[encoded data removed]",
            "text/plain": [
              "<Figure size 432x288 with 1 Axes>"
            ]
          },
          "metadata": {},
          "output_type": "display_data"
        },
        {
          "name": "stdout",
          "output_type": "stream",
          "text": [
            "Summary Statistics:\n",
            "count    617575.000000\n",
            "mean        136.429902\n",
            "std         249.138844\n",
            "min           0.710000\n",
            "25%          49.049999\n",
            "50%          83.690002\n",
            "75%         146.669998\n",
            "max        5364.040039\n",
            "Name: High, dtype: float64\n"
          ]
        },
        {
          "data": {
            "image/png": "[encoded data removed]",
            "text/plain": [
              "<Figure size 432x288 with 1 Axes>"
            ]
          },
          "metadata": {},
          "output_type": "display_data"
        },
        {
          "name": "stdout",
          "output_type": "stream",
          "text": [
            "Summary Statistics:\n",
            "count    617575.000000\n",
            "mean        133.337401\n",
            "std         243.275007\n",
            "min           0.650000\n",
            "25%          47.910000\n",
            "50%          81.910004\n",
            "75%         143.559998\n",
            "max        5286.109863\n",
            "Name: Low, dtype: float64\n"
          ]
        },
        {
          "data": {
            "image/png": "[encoded data removed]",
            "text/plain": [
              "<Figure size 432x288 with 1 Axes>"
            ]
          },
          "metadata": {},
          "output_type": "display_data"
        }
      ],
      "source": [
        "import matplotlib.pyplot as plt\n",
        "# Description of numerical variables & plot histogram\n",
        "# Select numerical features to plot\n",
        "num_features = ['Open', 'High', 'Low' ]\n",
        "# Plot histogram\n",
        "for x in num_features:\n",
        "    print('Summary Statistics:')\n",
        "    print(df_prices[x].describe(percentiles = [.25, .5, .75]))                  \n",
        "    plt.hist(df_prices[x], color = 'dodgerblue', edgecolor = 'black',\n",
        "         bins = int(20))\n",
        "    plt.title('Histogram of '+ x)\n",
        "    plt.xlabel(x)\n",
        "    plt.ylabel('Shares')\n",
        "    plt.show()"
      ]
    },
    {
      "cell_type": "code",
      "execution_count": null,
      "metadata": {
        "colab": {
          "base_uri": "https://localhost:8080/"
        },
        "id": "YUhxe7k4A3j0",
        "outputId": "8366a0b0-3269-47f5-8bfc-4b6f11545bfb"
      },
      "outputs": [
        {
          "name": "stdout",
          "output_type": "stream",
          "text": [
            "              Date         Open         High  ...    Adj Close   Volume  ticker\n",
            "427741  2021-11-24  5327.109863  5364.040039  ...  5351.399902  12700.0     NVR\n",
            "\n",
            "[1 rows x 8 columns]\n"
          ]
        }
      ],
      "source": [
        "print(df_prices.loc[df_prices['High']>5360])"
      ]
    },
    {
      "cell_type": "code",
      "execution_count": null,
      "metadata": {
        "colab": {
          "base_uri": "https://localhost:8080/",
          "height": 295
        },
        "id": "p1Y73-onE48K",
        "outputId": "b2d01ef2-9e36-4f0c-e119-9ed5c4db4944"
      },
      "outputs": [
        {
          "data": {
            "image/png": "[encoded data removed]",
            "text/plain": [
              "<Figure size 432x288 with 1 Axes>"
            ]
          },
          "metadata": {},
          "output_type": "display_data"
        }
      ],
      "source": [
        ""
      ]
    },
    {
      "cell_type": "markdown",
      "metadata": {
        "id": "SD2-cz9QGynJ"
      },
      "source": [
        "### Investigate wsb"
      ]
    },
    {
      "cell_type": "code",
      "execution_count": null,
      "metadata": {
        "colab": {
          "base_uri": "https://localhost:8080/",
          "height": 1000
        },
        "id": "BFd0YrFIz3e0",
        "outputId": "f8601f72-d567-47ea-ee81-3e70957fd163"
      },
      "outputs": [
        {
          "data": {
            "text/html": [
              "\n",
              "  <div id=\"df-0df89926-4100-42dc-aa25-f2eb05929d47\">\n",
              "    <div class=\"colab-df-container\">\n",
              "      <div>\n",
              "<style scoped>\n",
              "    .dataframe tbody tr th:only-of-type {\n",
              "        vertical-align: middle;\n",
              "    }\n",
              "\n",
              "    .dataframe tbody tr th {\n",
              "        vertical-align: top;\n",
              "    }\n",
              "\n",
              "    .dataframe thead th {\n",
              "        text-align: right;\n",
              "    }\n",
              "</style>\n",
              "<table border=\"1\" class=\"dataframe\">\n",
              "  <thead>\n",
              "    <tr style=\"text-align: right;\">\n",
              "      <th></th>\n",
              "      <th>Unnamed: 0</th>\n",
              "      <th>title</th>\n",
              "      <th>score</th>\n",
              "      <th>id</th>\n",
              "      <th>subreddit</th>\n",
              "      <th>url</th>\n",
              "      <th>num_comments</th>\n",
              "      <th>body</th>\n",
              "      <th>created</th>\n",
              "    </tr>\n",
              "  </thead>\n",
              "  <tbody>\n",
              "    <tr>\n",
              "      <th>0</th>\n",
              "      <td>0</td>\n",
              "      <td>What stock will make me rich?</td>\n",
              "      <td>1</td>\n",
              "      <td>r679m1</td>\n",
              "      <td>wallstreetbets</td>\n",
              "      <td>https://www.reddit.com/r/wallstreetbets/commen...</td>\n",
              "      <td>2</td>\n",
              "      <td>[removed]</td>\n",
              "      <td>1.638336e+09</td>\n",
              "    </tr>\n",
              "    <tr>\n",
              "      <th>1</th>\n",
              "      <td>1</td>\n",
              "      <td>Stock Market Investors vs. Dig. Currency Inves...</td>\n",
              "      <td>1</td>\n",
              "      <td>r677ij</td>\n",
              "      <td>wallstreetbets</td>\n",
              "      <td>https://i.redd.it/0xo2vybc8v281.png</td>\n",
              "      <td>1</td>\n",
              "      <td>NaN</td>\n",
              "      <td>1.638336e+09</td>\n",
              "    </tr>\n",
              "    <tr>\n",
              "      <th>2</th>\n",
              "      <td>2</td>\n",
              "      <td>WSB logo man is a real thing apparently….., we...</td>\n",
              "      <td>2</td>\n",
              "      <td>r676wt</td>\n",
              "      <td>wallstreetbets</td>\n",
              "      <td>https://i.redd.it/bhwbh1g78v281.jpg</td>\n",
              "      <td>1</td>\n",
              "      <td>NaN</td>\n",
              "      <td>1.638336e+09</td>\n",
              "    </tr>\n",
              "    <tr>\n",
              "      <th>3</th>\n",
              "      <td>3</td>\n",
              "      <td>Why did treasury rates fall if the fed confirm...</td>\n",
              "      <td>1</td>\n",
              "      <td>r676rt</td>\n",
              "      <td>wallstreetbets</td>\n",
              "      <td>https://www.reddit.com/r/wallstreetbets/commen...</td>\n",
              "      <td>1</td>\n",
              "      <td>[removed]</td>\n",
              "      <td>1.638336e+09</td>\n",
              "    </tr>\n",
              "    <tr>\n",
              "      <th>4</th>\n",
              "      <td>4</td>\n",
              "      <td>WSB today</td>\n",
              "      <td>2</td>\n",
              "      <td>r676ni</td>\n",
              "      <td>wallstreetbets</td>\n",
              "      <td>https://i.redd.it/lpgwwl338v281.jpg</td>\n",
              "      <td>1</td>\n",
              "      <td>[deleted]</td>\n",
              "      <td>1.638336e+09</td>\n",
              "    </tr>\n",
              "    <tr>\n",
              "      <th>5</th>\n",
              "      <td>5</td>\n",
              "      <td>Stock Market Investors vs. Digital Currency In...</td>\n",
              "      <td>1</td>\n",
              "      <td>r675tn</td>\n",
              "      <td>wallstreetbets</td>\n",
              "      <td>https://www.reddit.com/r/wallstreetbets/commen...</td>\n",
              "      <td>2</td>\n",
              "      <td>[removed]</td>\n",
              "      <td>1.638336e+09</td>\n",
              "    </tr>\n",
              "    <tr>\n",
              "      <th>6</th>\n",
              "      <td>6</td>\n",
              "      <td>Anyone heard of profits unlimited? If you have...</td>\n",
              "      <td>1</td>\n",
              "      <td>r671ne</td>\n",
              "      <td>wallstreetbets</td>\n",
              "      <td>https://www.reddit.com/r/wallstreetbets/commen...</td>\n",
              "      <td>2</td>\n",
              "      <td>[removed]</td>\n",
              "      <td>1.638335e+09</td>\n",
              "    </tr>\n",
              "    <tr>\n",
              "      <th>7</th>\n",
              "      <td>7</td>\n",
              "      <td>WSB Bulls When Futures Rip Green 🚀🚀🚀</td>\n",
              "      <td>1</td>\n",
              "      <td>r66xkc</td>\n",
              "      <td>wallstreetbets</td>\n",
              "      <td>https://i.redd.it/99i2gulf5v281.jpg</td>\n",
              "      <td>2</td>\n",
              "      <td>NaN</td>\n",
              "      <td>1.638335e+09</td>\n",
              "    </tr>\n",
              "    <tr>\n",
              "      <th>8</th>\n",
              "      <td>8</td>\n",
              "      <td>All the DD I ever needed for the future was a ...</td>\n",
              "      <td>6</td>\n",
              "      <td>r66xh6</td>\n",
              "      <td>wallstreetbets</td>\n",
              "      <td>https://v.redd.it/bcmfyhi45v281</td>\n",
              "      <td>3</td>\n",
              "      <td>NaN</td>\n",
              "      <td>1.638335e+09</td>\n",
              "    </tr>\n",
              "    <tr>\n",
              "      <th>9</th>\n",
              "      <td>9</td>\n",
              "      <td>WSV Bulls When Futures Rip Green</td>\n",
              "      <td>1</td>\n",
              "      <td>r66woz</td>\n",
              "      <td>wallstreetbets</td>\n",
              "      <td>https://i.redd.it/mm97lc175v281.jpg</td>\n",
              "      <td>2</td>\n",
              "      <td>[deleted]</td>\n",
              "      <td>1.638335e+09</td>\n",
              "    </tr>\n",
              "    <tr>\n",
              "      <th>10</th>\n",
              "      <td>10</td>\n",
              "      <td>stocks summarized this week...</td>\n",
              "      <td>8</td>\n",
              "      <td>r66t59</td>\n",
              "      <td>wallstreetbets</td>\n",
              "      <td>https://v.redd.it/57s7m40iyu281</td>\n",
              "      <td>4</td>\n",
              "      <td>NaN</td>\n",
              "      <td>1.638335e+09</td>\n",
              "    </tr>\n",
              "    <tr>\n",
              "      <th>11</th>\n",
              "      <td>11</td>\n",
              "      <td>YOLO 50K into RIOT</td>\n",
              "      <td>14</td>\n",
              "      <td>r66rf5</td>\n",
              "      <td>wallstreetbets</td>\n",
              "      <td>https://www.reddit.com/gallery/r66rf5</td>\n",
              "      <td>8</td>\n",
              "      <td>NaN</td>\n",
              "      <td>1.638334e+09</td>\n",
              "    </tr>\n",
              "    <tr>\n",
              "      <th>12</th>\n",
              "      <td>12</td>\n",
              "      <td>ITS TIME OF THE YEAR ~~ ♫♫</td>\n",
              "      <td>1</td>\n",
              "      <td>r66p39</td>\n",
              "      <td>wallstreetbets</td>\n",
              "      <td>https://www.reddit.com/r/wallstreetbets/commen...</td>\n",
              "      <td>2</td>\n",
              "      <td>[removed]</td>\n",
              "      <td>1.638334e+09</td>\n",
              "    </tr>\n",
              "    <tr>\n",
              "      <th>13</th>\n",
              "      <td>13</td>\n",
              "      <td>Anyone know what this is? It was on the Simpsons</td>\n",
              "      <td>0</td>\n",
              "      <td>r66mc7</td>\n",
              "      <td>wallstreetbets</td>\n",
              "      <td>https://i.redd.it/jk6eim7c2v281.jpg</td>\n",
              "      <td>9</td>\n",
              "      <td>NaN</td>\n",
              "      <td>1.638334e+09</td>\n",
              "    </tr>\n",
              "    <tr>\n",
              "      <th>14</th>\n",
              "      <td>14</td>\n",
              "      <td>Free money life hack</td>\n",
              "      <td>2</td>\n",
              "      <td>r66m16</td>\n",
              "      <td>wallstreetbets</td>\n",
              "      <td>https://www.reddit.com/gallery/r66m16</td>\n",
              "      <td>4</td>\n",
              "      <td>NaN</td>\n",
              "      <td>1.638334e+09</td>\n",
              "    </tr>\n",
              "    <tr>\n",
              "      <th>15</th>\n",
              "      <td>15</td>\n",
              "      <td>Free money like hack</td>\n",
              "      <td>1</td>\n",
              "      <td>r66lfy</td>\n",
              "      <td>wallstreetbets</td>\n",
              "      <td>https://www.reddit.com/gallery/r66lfy</td>\n",
              "      <td>2</td>\n",
              "      <td>[deleted]</td>\n",
              "      <td>1.638334e+09</td>\n",
              "    </tr>\n",
              "    <tr>\n",
              "      <th>16</th>\n",
              "      <td>16</td>\n",
              "      <td>How do I buy calls on Power Wheels?</td>\n",
              "      <td>1</td>\n",
              "      <td>r66j0b</td>\n",
              "      <td>wallstreetbets</td>\n",
              "      <td>https://i.imgur.com/XPXP9Mo.jpg</td>\n",
              "      <td>0</td>\n",
              "      <td>[deleted]</td>\n",
              "      <td>1.638334e+09</td>\n",
              "    </tr>\n",
              "    <tr>\n",
              "      <th>17</th>\n",
              "      <td>17</td>\n",
              "      <td>Yolo spy put</td>\n",
              "      <td>1</td>\n",
              "      <td>r66ion</td>\n",
              "      <td>wallstreetbets</td>\n",
              "      <td>https://i.redd.it/0ui7toda1v281.jpg</td>\n",
              "      <td>1</td>\n",
              "      <td>[deleted]</td>\n",
              "      <td>1.638334e+09</td>\n",
              "    </tr>\n",
              "    <tr>\n",
              "      <th>18</th>\n",
              "      <td>18</td>\n",
              "      <td>Free money life hack</td>\n",
              "      <td>4</td>\n",
              "      <td>r66inr</td>\n",
              "      <td>wallstreetbets</td>\n",
              "      <td>https://www.reddit.com/gallery/r66inr</td>\n",
              "      <td>1</td>\n",
              "      <td>NaN</td>\n",
              "      <td>1.638334e+09</td>\n",
              "    </tr>\n",
              "    <tr>\n",
              "      <th>19</th>\n",
              "      <td>19</td>\n",
              "      <td>Cramer suggests putting some cash to work afte...</td>\n",
              "      <td>1</td>\n",
              "      <td>r668br</td>\n",
              "      <td>wallstreetbets</td>\n",
              "      <td>https://apple.news/AZP25iABWSt6UBUotpuzDXA</td>\n",
              "      <td>1</td>\n",
              "      <td>NaN</td>\n",
              "      <td>1.638333e+09</td>\n",
              "    </tr>\n",
              "    <tr>\n",
              "      <th>20</th>\n",
              "      <td>20</td>\n",
              "      <td>Cramer suggests putting some cash to work afte...</td>\n",
              "      <td>1</td>\n",
              "      <td>r6676v</td>\n",
              "      <td>wallstreetbets</td>\n",
              "      <td>https://apple.news/AZP25iABWSt6UBUotpuzDXA</td>\n",
              "      <td>1</td>\n",
              "      <td>[deleted]</td>\n",
              "      <td>1.638332e+09</td>\n",
              "    </tr>\n",
              "    <tr>\n",
              "      <th>21</th>\n",
              "      <td>21</td>\n",
              "      <td>PayPal saw use of its buy now, pay later optio...</td>\n",
              "      <td>1</td>\n",
              "      <td>r66680</td>\n",
              "      <td>wallstreetbets</td>\n",
              "      <td>https://www.cnbc.com/2021/11/30/paypal-ceo-use...</td>\n",
              "      <td>3</td>\n",
              "      <td>[deleted]</td>\n",
              "      <td>1.638332e+09</td>\n",
              "    </tr>\n",
              "    <tr>\n",
              "      <th>22</th>\n",
              "      <td>22</td>\n",
              "      <td>Something seems weird here… 😆</td>\n",
              "      <td>0</td>\n",
              "      <td>r6662f</td>\n",
              "      <td>wallstreetbets</td>\n",
              "      <td>https://i.redd.it/f6kq1z8oxu281.jpg</td>\n",
              "      <td>7</td>\n",
              "      <td>NaN</td>\n",
              "      <td>1.638332e+09</td>\n",
              "    </tr>\n",
              "    <tr>\n",
              "      <th>23</th>\n",
              "      <td>23</td>\n",
              "      <td>me buying stocks this week so far...</td>\n",
              "      <td>3</td>\n",
              "      <td>r665xd</td>\n",
              "      <td>wallstreetbets</td>\n",
              "      <td>https://v.redd.it/fgyowyegxu281</td>\n",
              "      <td>1</td>\n",
              "      <td>[deleted]</td>\n",
              "      <td>1.638332e+09</td>\n",
              "    </tr>\n",
              "    <tr>\n",
              "      <th>24</th>\n",
              "      <td>24</td>\n",
              "      <td>Watch me either make a lot of money or lose a ...</td>\n",
              "      <td>3</td>\n",
              "      <td>r665o2</td>\n",
              "      <td>wallstreetbets</td>\n",
              "      <td>https://i.redd.it/83w6a6xjxu281.jpg</td>\n",
              "      <td>8</td>\n",
              "      <td>NaN</td>\n",
              "      <td>1.638332e+09</td>\n",
              "    </tr>\n",
              "    <tr>\n",
              "      <th>25</th>\n",
              "      <td>25</td>\n",
              "      <td>I didn’t lose today</td>\n",
              "      <td>0</td>\n",
              "      <td>r664w9</td>\n",
              "      <td>wallstreetbets</td>\n",
              "      <td>https://i.redd.it/macitv3cxu281.jpg</td>\n",
              "      <td>2</td>\n",
              "      <td>NaN</td>\n",
              "      <td>1.638332e+09</td>\n",
              "    </tr>\n",
              "    <tr>\n",
              "      <th>26</th>\n",
              "      <td>26</td>\n",
              "      <td>#mcboycott let’s go! LOL those anti work guys ...</td>\n",
              "      <td>3</td>\n",
              "      <td>r664e8</td>\n",
              "      <td>wallstreetbets</td>\n",
              "      <td>https://i.redd.it/tdlxh2x6xu281.jpg</td>\n",
              "      <td>6</td>\n",
              "      <td>NaN</td>\n",
              "      <td>1.638332e+09</td>\n",
              "    </tr>\n",
              "    <tr>\n",
              "      <th>27</th>\n",
              "      <td>27</td>\n",
              "      <td>AERC - Bullish</td>\n",
              "      <td>1</td>\n",
              "      <td>r662pd</td>\n",
              "      <td>wallstreetbets</td>\n",
              "      <td>https://www.reddit.com/r/wallstreetbets/commen...</td>\n",
              "      <td>4</td>\n",
              "      <td>[removed]</td>\n",
              "      <td>1.638332e+09</td>\n",
              "    </tr>\n",
              "    <tr>\n",
              "      <th>28</th>\n",
              "      <td>28</td>\n",
              "      <td>Is ETHER going to be the next big thing? Shoul...</td>\n",
              "      <td>0</td>\n",
              "      <td>r661rj</td>\n",
              "      <td>wallstreetbets</td>\n",
              "      <td>https://i.redd.it/l2g5szggwu281.jpg</td>\n",
              "      <td>3</td>\n",
              "      <td>NaN</td>\n",
              "      <td>1.638332e+09</td>\n",
              "    </tr>\n",
              "    <tr>\n",
              "      <th>29</th>\n",
              "      <td>29</td>\n",
              "      <td>Is GameStop pumping sales?</td>\n",
              "      <td>1</td>\n",
              "      <td>r660oz</td>\n",
              "      <td>wallstreetbets</td>\n",
              "      <td>https://i.redd.it/r9h5ted6wu281.jpg</td>\n",
              "      <td>1</td>\n",
              "      <td>NaN</td>\n",
              "      <td>1.638332e+09</td>\n",
              "    </tr>\n",
              "    <tr>\n",
              "      <th>30</th>\n",
              "      <td>30</td>\n",
              "      <td>$CHGG - Riding in a Lambo or Die Trying (Poten...</td>\n",
              "      <td>0</td>\n",
              "      <td>r6606y</td>\n",
              "      <td>wallstreetbets</td>\n",
              "      <td>https://www.reddit.com/r/wallstreetbets/commen...</td>\n",
              "      <td>14</td>\n",
              "      <td>[removed]</td>\n",
              "      <td>1.638332e+09</td>\n",
              "    </tr>\n",
              "    <tr>\n",
              "      <th>31</th>\n",
              "      <td>31</td>\n",
              "      <td>#mcboycott let’s go! LOL those antiwork guys a...</td>\n",
              "      <td>2</td>\n",
              "      <td>r65zjn</td>\n",
              "      <td>wallstreetbets</td>\n",
              "      <td>https://i.redd.it/navniwbvvu281.jpg</td>\n",
              "      <td>2</td>\n",
              "      <td>[deleted]</td>\n",
              "      <td>1.638332e+09</td>\n",
              "    </tr>\n",
              "    <tr>\n",
              "      <th>32</th>\n",
              "      <td>32</td>\n",
              "      <td>Wedding Invite: Discovery (DISCA) and WarnerMedia</td>\n",
              "      <td>5</td>\n",
              "      <td>r65ycr</td>\n",
              "      <td>wallstreetbets</td>\n",
              "      <td>https://www.reddit.com/r/wallstreetbets/commen...</td>\n",
              "      <td>6</td>\n",
              "      <td>I have been scratching my head over Discovery'...</td>\n",
              "      <td>1.638332e+09</td>\n",
              "    </tr>\n",
              "    <tr>\n",
              "      <th>33</th>\n",
              "      <td>33</td>\n",
              "      <td>RIP Robinhood | Need Non-Referral Program Advice</td>\n",
              "      <td>1</td>\n",
              "      <td>r65x1j</td>\n",
              "      <td>wallstreetbets</td>\n",
              "      <td>https://i.redd.it/i46a1066vu281.jpg</td>\n",
              "      <td>2</td>\n",
              "      <td>[deleted]</td>\n",
              "      <td>1.638331e+09</td>\n",
              "    </tr>\n",
              "    <tr>\n",
              "      <th>34</th>\n",
              "      <td>34</td>\n",
              "      <td>Is GameStop pumping sales numbers?</td>\n",
              "      <td>1</td>\n",
              "      <td>r65wyh</td>\n",
              "      <td>wallstreetbets</td>\n",
              "      <td>https://i.redd.it/esowtgh5vu281.jpg</td>\n",
              "      <td>1</td>\n",
              "      <td>[deleted]</td>\n",
              "      <td>1.638331e+09</td>\n",
              "    </tr>\n",
              "    <tr>\n",
              "      <th>35</th>\n",
              "      <td>35</td>\n",
              "      <td>Buying TLRY shares right now is like buying a ...</td>\n",
              "      <td>1</td>\n",
              "      <td>r65w16</td>\n",
              "      <td>wallstreetbets</td>\n",
              "      <td>https://www.reddit.com/r/wallstreetbets/commen...</td>\n",
              "      <td>2</td>\n",
              "      <td>[removed]</td>\n",
              "      <td>1.638331e+09</td>\n",
              "    </tr>\n",
              "    <tr>\n",
              "      <th>36</th>\n",
              "      <td>36</td>\n",
              "      <td>Teach Me You Will</td>\n",
              "      <td>1</td>\n",
              "      <td>r65sy2</td>\n",
              "      <td>wallstreetbets</td>\n",
              "      <td>https://www.reddit.com/r/wallstreetbets/commen...</td>\n",
              "      <td>1</td>\n",
              "      <td>[removed]</td>\n",
              "      <td>1.638331e+09</td>\n",
              "    </tr>\n",
              "    <tr>\n",
              "      <th>37</th>\n",
              "      <td>37</td>\n",
              "      <td>COVID or not, CHGG literally can’t go tits up</td>\n",
              "      <td>0</td>\n",
              "      <td>r65stv</td>\n",
              "      <td>wallstreetbets</td>\n",
              "      <td>https://www.reddit.com/r/wallstreetbets/commen...</td>\n",
              "      <td>10</td>\n",
              "      <td>[removed]</td>\n",
              "      <td>1.638331e+09</td>\n",
              "    </tr>\n",
              "    <tr>\n",
              "      <th>38</th>\n",
              "      <td>38</td>\n",
              "      <td>OLMA is Primed!</td>\n",
              "      <td>1</td>\n",
              "      <td>r65sc6</td>\n",
              "      <td>wallstreetbets</td>\n",
              "      <td>https://www.reddit.com/r/wallstreetbets/commen...</td>\n",
              "      <td>2</td>\n",
              "      <td>[removed]</td>\n",
              "      <td>1.638331e+09</td>\n",
              "    </tr>\n",
              "    <tr>\n",
              "      <th>39</th>\n",
              "      <td>39</td>\n",
              "      <td>BUY OLMA NOW!</td>\n",
              "      <td>2</td>\n",
              "      <td>r65ptt</td>\n",
              "      <td>wallstreetbets</td>\n",
              "      <td>https://www.reddit.com/r/wallstreetbets/commen...</td>\n",
              "      <td>1</td>\n",
              "      <td>[removed]</td>\n",
              "      <td>1.638331e+09</td>\n",
              "    </tr>\n",
              "    <tr>\n",
              "      <th>40</th>\n",
              "      <td>40</td>\n",
              "      <td>Finally a beer for us dummies</td>\n",
              "      <td>1</td>\n",
              "      <td>r65o5k</td>\n",
              "      <td>wallstreetbets</td>\n",
              "      <td>https://i.redd.it/xaqywy4tsu281.jpg</td>\n",
              "      <td>2</td>\n",
              "      <td>[deleted]</td>\n",
              "      <td>1.638331e+09</td>\n",
              "    </tr>\n",
              "    <tr>\n",
              "      <th>41</th>\n",
              "      <td>41</td>\n",
              "      <td>Finally a beer for us dummies</td>\n",
              "      <td>1</td>\n",
              "      <td>r65n1k</td>\n",
              "      <td>wallstreetbets</td>\n",
              "      <td>https://i.redd.it/lybqijlisu281.jpg</td>\n",
              "      <td>1</td>\n",
              "      <td>[deleted]</td>\n",
              "      <td>1.638331e+09</td>\n",
              "    </tr>\n",
              "    <tr>\n",
              "      <th>42</th>\n",
              "      <td>42</td>\n",
              "      <td>Clover Health is a terrible stock and has 98% ...</td>\n",
              "      <td>1</td>\n",
              "      <td>r65lwn</td>\n",
              "      <td>wallstreetbets</td>\n",
              "      <td>https://i.redd.it/xotp3yl7su281.jpg</td>\n",
              "      <td>1</td>\n",
              "      <td>NaN</td>\n",
              "      <td>1.638331e+09</td>\n",
              "    </tr>\n",
              "    <tr>\n",
              "      <th>43</th>\n",
              "      <td>43</td>\n",
              "      <td>Finally a beer for US</td>\n",
              "      <td>1</td>\n",
              "      <td>r65ldj</td>\n",
              "      <td>wallstreetbets</td>\n",
              "      <td>https://imgur.com/X4g35Mc</td>\n",
              "      <td>1</td>\n",
              "      <td>[deleted]</td>\n",
              "      <td>1.638330e+09</td>\n",
              "    </tr>\n",
              "    <tr>\n",
              "      <th>44</th>\n",
              "      <td>44</td>\n",
              "      <td>How does this work?</td>\n",
              "      <td>1</td>\n",
              "      <td>r65kp0</td>\n",
              "      <td>wallstreetbets</td>\n",
              "      <td>https://www.reddit.com/r/wallstreetbets/commen...</td>\n",
              "      <td>2</td>\n",
              "      <td>[removed]</td>\n",
              "      <td>1.638330e+09</td>\n",
              "    </tr>\n",
              "    <tr>\n",
              "      <th>45</th>\n",
              "      <td>45</td>\n",
              "      <td>ADI Expands Linux Distribution with 1000+ Devi...</td>\n",
              "      <td>1</td>\n",
              "      <td>r65kdy</td>\n",
              "      <td>wallstreetbets</td>\n",
              "      <td>https://www.12chip.com/article/company-news/ad...</td>\n",
              "      <td>1</td>\n",
              "      <td>NaN</td>\n",
              "      <td>1.638330e+09</td>\n",
              "    </tr>\n",
              "    <tr>\n",
              "      <th>46</th>\n",
              "      <td>46</td>\n",
              "      <td>Finally a beer for us</td>\n",
              "      <td>1</td>\n",
              "      <td>r65j3y</td>\n",
              "      <td>wallstreetbets</td>\n",
              "      <td>https://imgur.com/a/gZQcT6Y</td>\n",
              "      <td>1</td>\n",
              "      <td>[deleted]</td>\n",
              "      <td>1.638330e+09</td>\n",
              "    </tr>\n",
              "    <tr>\n",
              "      <th>47</th>\n",
              "      <td>47</td>\n",
              "      <td>So.. they’re just going to glance over that Tw...</td>\n",
              "      <td>1</td>\n",
              "      <td>r65i1w</td>\n",
              "      <td>wallstreetbets</td>\n",
              "      <td>https://i.redd.it/6an55e66ru281.jpg</td>\n",
              "      <td>2</td>\n",
              "      <td>NaN</td>\n",
              "      <td>1.638330e+09</td>\n",
              "    </tr>\n",
              "    <tr>\n",
              "      <th>48</th>\n",
              "      <td>48</td>\n",
              "      <td>So.. they’re just going to glance over that name?</td>\n",
              "      <td>1</td>\n",
              "      <td>r65h4s</td>\n",
              "      <td>wallstreetbets</td>\n",
              "      <td>https://i.redd.it/74ms4bnxqu281.jpg</td>\n",
              "      <td>1</td>\n",
              "      <td>[deleted]</td>\n",
              "      <td>1.638330e+09</td>\n",
              "    </tr>\n",
              "    <tr>\n",
              "      <th>49</th>\n",
              "      <td>49</td>\n",
              "      <td>BlackBerry's 🍇 chart will give you a $BBoner -...</td>\n",
              "      <td>1</td>\n",
              "      <td>r65fo6</td>\n",
              "      <td>wallstreetbets</td>\n",
              "      <td>https://i.redd.it/itjtkw9kpu281.png</td>\n",
              "      <td>2</td>\n",
              "      <td>NaN</td>\n",
              "      <td>1.638330e+09</td>\n",
              "    </tr>\n",
              "  </tbody>\n",
              "</table>\n",
              "</div>\n",
              "      <button class=\"colab-df-convert\" onclick=\"convertToInteractive('df-0df89926-4100-42dc-aa25-f2eb05929d47')\"\n",
              "              title=\"Convert this dataframe to an interactive table.\"\n",
              "              style=\"display:none;\">\n",
              "        \n",
              "  <svg xmlns=\"http://www.w3.org/2000/svg\" height=\"24px\"viewBox=\"0 0 24 24\"\n",
              "       width=\"24px\">\n",
              "    <path d=\"M0 0h24v24H0V0z\" fill=\"none\"/>\n",
              "    <path d=\"M18.56 5.44l.94 2.06.94-2.06 2.06-.94-2.06-.94-.94-2.06-.94 2.06-2.06.94zm-11 1L8.5 8.5l.94-2.06 2.06-.94-2.06-.94L8.5 2.5l-.94 2.06-2.06.94zm10 10l.94 2.06.94-2.06 2.06-.94-2.06-.94-.94-2.06-.94 2.06-2.06.94z\"/><path d=\"M17.41 7.96l-1.37-1.37c-.4-.4-.92-.59-1.43-.59-.52 0-1.04.2-1.43.59L10.3 9.45l-7.72 7.72c-.78.78-.78 2.05 0 2.83L4 21.41c.39.39.9.59 1.41.59.51 0 1.02-.2 1.41-.59l7.78-7.78 2.81-2.81c.8-.78.8-2.07 0-2.86zM5.41 20L4 18.59l7.72-7.72 1.47 1.35L5.41 20z\"/>\n",
              "  </svg>\n",
              "      </button>\n",
              "      \n",
              "  <style>\n",
              "    .colab-df-container {\n",
              "      display:flex;\n",
              "      flex-wrap:wrap;\n",
              "      gap: 12px;\n",
              "    }\n",
              "\n",
              "    .colab-df-convert {\n",
              "      background-color: #E8F0FE;\n",
              "      border: none;\n",
              "      border-radius: 50%;\n",
              "      cursor: pointer;\n",
              "      display: none;\n",
              "      fill: #1967D2;\n",
              "      height: 32px;\n",
              "      padding: 0 0 0 0;\n",
              "      width: 32px;\n",
              "    }\n",
              "\n",
              "    .colab-df-convert:hover {\n",
              "      background-color: #E2EBFA;\n",
              "      box-shadow: 0px 1px 2px rgba(60, 64, 67, 0.3), 0px 1px 3px 1px rgba(60, 64, 67, 0.15);\n",
              "      fill: #174EA6;\n",
              "    }\n",
              "\n",
              "    [theme=dark] .colab-df-convert {\n",
              "      background-color: #3B4455;\n",
              "      fill: #D2E3FC;\n",
              "    }\n",
              "\n",
              "    [theme=dark] .colab-df-convert:hover {\n",
              "      background-color: #434B5C;\n",
              "      box-shadow: 0px 1px 3px 1px rgba(0, 0, 0, 0.15);\n",
              "      filter: drop-shadow(0px 1px 2px rgba(0, 0, 0, 0.3));\n",
              "      fill: #FFFFFF;\n",
              "    }\n",
              "  </style>\n",
              "\n",
              "      <script>\n",
              "        const buttonEl =\n",
              "          document.querySelector('#df-0df89926-4100-42dc-aa25-f2eb05929d47 button.colab-df-convert');\n",
              "        buttonEl.style.display =\n",
              "          google.colab.kernel.accessAllowed ? 'block' : 'none';\n",
              "\n",
              "        async function convertToInteractive(key) {\n",
              "          const element = document.querySelector('#df-0df89926-4100-42dc-aa25-f2eb05929d47');\n",
              "          const dataTable =\n",
              "            await google.colab.kernel.invokeFunction('convertToInteractive',\n",
              "                                                     [key], {});\n",
              "          if (!dataTable) return;\n",
              "\n",
              "          const docLinkHtml = 'Like what you see? Visit the ' +\n",
              "            '<a target=\"_blank\" href=https://colab.research.google.com/notebooks/data_table.ipynb>data table notebook</a>'\n",
              "            + ' to learn more about interactive tables.';\n",
              "          element.innerHTML = '';\n",
              "          dataTable['output_type'] = 'display_data';\n",
              "          await google.colab.output.renderOutput(dataTable, element);\n",
              "          const docLink = document.createElement('div');\n",
              "          docLink.innerHTML = docLinkHtml;\n",
              "          element.appendChild(docLink);\n",
              "        }\n",
              "      </script>\n",
              "    </div>\n",
              "  </div>\n",
              "  "
            ],
            "text/plain": [
              "    Unnamed: 0  ...       created\n",
              "0            0  ...  1.638336e+09\n",
              "1            1  ...  1.638336e+09\n",
              "2            2  ...  1.638336e+09\n",
              "3            3  ...  1.638336e+09\n",
              "4            4  ...  1.638336e+09\n",
              "5            5  ...  1.638336e+09\n",
              "6            6  ...  1.638335e+09\n",
              "7            7  ...  1.638335e+09\n",
              "8            8  ...  1.638335e+09\n",
              "9            9  ...  1.638335e+09\n",
              "10          10  ...  1.638335e+09\n",
              "11          11  ...  1.638334e+09\n",
              "12          12  ...  1.638334e+09\n",
              "13          13  ...  1.638334e+09\n",
              "14          14  ...  1.638334e+09\n",
              "15          15  ...  1.638334e+09\n",
              "16          16  ...  1.638334e+09\n",
              "17          17  ...  1.638334e+09\n",
              "18          18  ...  1.638334e+09\n",
              "19          19  ...  1.638333e+09\n",
              "20          20  ...  1.638332e+09\n",
              "21          21  ...  1.638332e+09\n",
              "22          22  ...  1.638332e+09\n",
              "23          23  ...  1.638332e+09\n",
              "24          24  ...  1.638332e+09\n",
              "25          25  ...  1.638332e+09\n",
              "26          26  ...  1.638332e+09\n",
              "27          27  ...  1.638332e+09\n",
              "28          28  ...  1.638332e+09\n",
              "29          29  ...  1.638332e+09\n",
              "30          30  ...  1.638332e+09\n",
              "31          31  ...  1.638332e+09\n",
              "32          32  ...  1.638332e+09\n",
              "33          33  ...  1.638331e+09\n",
              "34          34  ...  1.638331e+09\n",
              "35          35  ...  1.638331e+09\n",
              "36          36  ...  1.638331e+09\n",
              "37          37  ...  1.638331e+09\n",
              "38          38  ...  1.638331e+09\n",
              "39          39  ...  1.638331e+09\n",
              "40          40  ...  1.638331e+09\n",
              "41          41  ...  1.638331e+09\n",
              "42          42  ...  1.638331e+09\n",
              "43          43  ...  1.638330e+09\n",
              "44          44  ...  1.638330e+09\n",
              "45          45  ...  1.638330e+09\n",
              "46          46  ...  1.638330e+09\n",
              "47          47  ...  1.638330e+09\n",
              "48          48  ...  1.638330e+09\n",
              "49          49  ...  1.638330e+09\n",
              "\n",
              "[50 rows x 9 columns]"
            ]
          },
          "execution_count": 13,
          "metadata": {},
          "output_type": "execute_result"
        }
      ],
      "source": [
        "# Investigate posts\n",
        "df.head(50)"
      ]
    },
    {
      "cell_type": "code",
      "execution_count": null,
      "metadata": {
        "id": "MWW0x0JVHQWG"
      },
      "outputs": [],
      "source": [
        "#"
      ]
    },
    {
      "cell_type": "markdown",
      "metadata": {
        "id": "FtuIGFFnHp8b"
      },
      "source": [
        "# Analysis"
      ]
    },
    {
      "cell_type": "markdown",
      "metadata": {
        "id": "CpgdHwE6HtGS"
      },
      "source": [
        "### Finding mentions of a ticker\n"
      ]
    },
    {
      "cell_type": "code",
      "execution_count": null,
      "metadata": {
        "id": "Qddtl4nbe5ct"
      },
      "outputs": [],
      "source": [
        "# Prepare a dictionary of stocknames/tickers\n",
        "# Get S&P 500 data\n",
        "# Tickers from 'functions'\n",
        "tickers = save_sp500_tickers()\n",
        "tickers = [re.sub(r\"\\n\", \"\", x)for x in tickers]\n",
        "\n",
        "# Names from function in 'functions'\n",
        "spnames = save_sp500_names()\n",
        "\n",
        "# Add GME\n",
        "spnames.append('GameStop')\n",
        "tickers.append('GME')\n",
        "spnames.append('AMC')\n",
        "tickers.append('AMC')\n",
        "\n",
        "# Create dataframe\n",
        "df_stocknames = pd.DataFrame()\n",
        "df_stocknames['StockNames'] = [x.lower() for x in spnames] \n",
        "df_stocknames['tickers'] = [x.lower() for x in tickers]\n",
        "#df_stocknames\n",
        "\n",
        "# Remove a list of tickers which will get picked up - check that they are nothing major\n",
        "remove_list = ['a', 'all', 'it', 'are','now','dd','so']\n",
        "df_stocknames = df_stocknames.loc[(~df_stocknames['tickers'].isin(remove_list))]\n",
        "\n",
        "# Create a dictionary\n",
        "stock_dict = dict(zip(df_stocknames.tickers, df_stocknames.StockNames))"
      ]
    },
    {
      "cell_type": "code",
      "execution_count": null,
      "metadata": {
        "id": "tJksouscJSnk"
      },
      "outputs": [],
      "source": [
        "# Create Sample\n",
        "test = df.copy()\n",
        "test = test.loc[1:30000]\n",
        "\n",
        "# Clean text\n",
        "test['title_cleaned'] = [reddit_post_cleaner(x) for x in test['title']]\n",
        "\n",
        "# Find stock names\n",
        "test['stock_find'] = [stock_find(i) for i in test['title_cleaned']]\n",
        "test['ticker_find'] = [ticker_find(i) for i in test['title_cleaned']]\n",
        "\n",
        "# Logic to match to single\n",
        "test['stock'] = test.apply(lambda x: stock_logic(x['stock_find'], x['ticker_find']), axis = 1)"
      ]
    },
    {
      "cell_type": "code",
      "execution_count": null,
      "metadata": {
        "id": "Zx0YBj_QQ7Qe"
      },
      "outputs": [],
      "source": [
        "# Convert into a wide file with week as index, stock on columns and mentions as values\n",
        "\n",
        "# Convert from seconds into datetime\n",
        "test['dt'] = [convert_seconds_datetime(i) for i in test['created']] "
      ]
    },
    {
      "cell_type": "code",
      "execution_count": null,
      "metadata": {
        "id": "h6kQ3-anika7"
      },
      "outputs": [],
      "source": [
        "#Summarise number of counts \n",
        "# List of stocknames\n",
        "stock_names = df_stocknames['StockNames']\n",
        "\n",
        "# times\n",
        "times = pd.date_range('2016-01-01', periods=350, freq='7D')\n",
        "test['week'] = [closest_time(i) for i  in test['dt'] ]\n",
        "\n",
        "# Create pivot \n",
        "#pivot_tb = pd.pivot_table(test, index= 'week', columns='stock', aggfunc= 'count')"
      ]
    },
    {
      "cell_type": "code",
      "execution_count": null,
      "metadata": {
        "id": "mVlGJqDCiyHt"
      },
      "outputs": [],
      "source": [
        "pivot_tb = test[['week','stock']]\n",
        "pivot_tb = pd.pivot_table(pivot_tb, index= 'week', columns='stock', aggfunc= len)\n",
        "pivot_tb.drop('remove', axis = 1, inplace=True)"
      ]
    },
    {
      "cell_type": "code",
      "execution_count": null,
      "metadata": {
        "id": "uxzurtT6DkBt"
      },
      "outputs": [],
      "source": [
        "pivot_tb"
      ]
    },
    {
      "cell_type": "code",
      "execution_count": null,
      "metadata": {
        "id": "C8ow9T1CARSi"
      },
      "outputs": [],
      "source": [
        "!pip install bar_chart_race\n",
        "import bar_chart_race as bcr\n",
        "df = pivot_tb\n",
        "bcr.bar_chart_race(\n",
        "    df=df,\n",
        "    filename='covid19_horiz.mp4',\n",
        "    orientation='h',\n",
        "    sort='desc',\n",
        "    n_bars=6,\n",
        "    fixed_order=False,\n",
        "    fixed_max=True,\n",
        "    steps_per_period=10,\n",
        "    interpolate_period=False,\n",
        "    label_bars=True,\n",
        "    bar_size=.95,\n",
        "    period_label={'x': .99, 'y': .25, 'ha': 'right', 'va': 'center'},\n",
        "    period_fmt='%B %d, %Y',\n",
        "    period_summary_func=lambda v, r: {'x': .99, 'y': .18,\n",
        "                                      's': f'Total deaths: {v.nlargest(6).sum():,.0f}',\n",
        "                                      'ha': 'right', 'size': 8, 'family': 'Courier New'},\n",
        "    perpendicular_bar_func='median',\n",
        "    period_length=500,\n",
        "    figsize=(5, 3),\n",
        "    dpi=144,\n",
        "    cmap='dark12',\n",
        "    title='Most Mentioned Stocks on WallStreetBets',\n",
        "    title_size='',\n",
        "    bar_label_size=7,\n",
        "    tick_label_size=7,\n",
        "    shared_fontdict={'family' : 'Helvetica', 'color' : '.1'},\n",
        "    scale='linear',\n",
        "    writer=None,\n",
        "    fig=None,\n",
        "    bar_kwargs={'alpha': .7},\n",
        "    filter_column_colors=False)  "
      ]
    },
    {
      "cell_type": "code",
      "execution_count": null,
      "metadata": {
        "id": "YH1d_giCAq2q"
      },
      "outputs": [],
      "source": [
        "bcr.bar_chart_race(df=df, filename=None,n_bars = 10)"
      ]
    },
    {
      "cell_type": "markdown",
      "metadata": {
        "id": "SWi2FYciHLSW"
      },
      "source": [
        "# To Do\n"
      ]
    },
    {
      "cell_type": "markdown",
      "metadata": {
        "id": "iGhT9UQoIQ46"
      },
      "source": [
        "## Fixes"
      ]
    },
    {
      "cell_type": "markdown",
      "metadata": {
        "id": "vByTRAUhHngC"
      },
      "source": [
        "Currently the finding algorithm is quite bad - picking up exact matches only and for single words.\n",
        "\n",
        "Treatment of tickers which are commonly used in language eg. "
      ]
    },
    {
      "cell_type": "markdown",
      "metadata": {
        "id": "ow-LulCFITLp"
      },
      "source": [
        "## Planned Next Steps"
      ]
    },
    {
      "cell_type": "markdown",
      "metadata": {
        "id": "dRUnQzb_Hy4q"
      },
      "source": [
        "Expand to include comments (might take too long to collect data on colab)\n",
        "Correlation between prices and ticker mentions\n",
        "\n"
      ]
    },
    {
      "cell_type": "markdown",
      "metadata": {
        "id": "4M2Qsc88Vbt-"
      },
      "source": [
        "# Appendix"
      ]
    },
    {
      "cell_type": "code",
      "execution_count": null,
      "metadata": {
        "id": "fpSyehbUIvqz"
      },
      "outputs": [],
      "source": [
        "## Set up reddit login\n",
        "reddit = praw.Reddit(client_id='G_BrE-lY8IRfDDJ9mQw9Eg', client_secret='_1MiajxVKgxGAJ6H-pz_ogEIV0IsIQ', user_agent='WebScraping')\n",
        "\n",
        "## Import data\n",
        "## Create empty list\n",
        "wsb_posts = []\n",
        "#\n",
        "## Define parameters to pull in data\n",
        "wsb = reddit.subreddit('wallstreetbets').top('year',limit=1000)\n",
        "for post in wsb:\n",
        "   wsb_posts.append([post.title, post.score, post.id, post.subreddit, post.url, post.num_comments, post.selftext, post.created])\n",
        "\n",
        "wsb_posts = pd.DataFrame(wsb_posts,columns=['title', 'score', 'id', 'subreddit', 'url', 'num_comments', 'body', 'created'])\n",
        "\n",
        "print(wsb_posts)"
      ]
    }
  ],
  "metadata": {
    "colab": {
      "collapsed_sections": [],
      "name": "InverseWSB.ipynb",
      "toc_visible": true,
      "provenance": [],
      "machine_shape": "hm",
      "authorship_tag": "ABX9TyP1LHM48IZPfzqSQkybL11j",
      "include_colab_link": true
    },
    "kernelspec": {
      "display_name": "Python 3",
      "name": "python3"
    },
    "language_info": {
      "name": "python"
    },
    "accelerator": "GPU"
  },
  "nbformat": 4,
  "nbformat_minor": 0
}